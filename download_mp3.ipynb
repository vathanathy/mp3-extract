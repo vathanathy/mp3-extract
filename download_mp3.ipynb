{
 "cells": [
  {
   "cell_type": "code",
   "execution_count": 1,
   "id": "793fa8cd",
   "metadata": {},
   "outputs": [],
   "source": [
    "from flask import Flask, render_template\n",
    "import os\n",
    "app = Flask(__name__)\n",
    "@app.route('/')\n",
    "def index():\n",
    "    return render_template(\"index.html\")"
   ]
  },
  {
   "cell_type": "code",
   "execution_count": 2,
   "id": "97425b29",
   "metadata": {},
   "outputs": [],
   "source": [
    "from pytube import YouTube\n",
    "import os\n",
    "\n",
    "def dl(link):\n",
    "    yt = YouTube(str(link))\n",
    "\n",
    "    video = yt.streams.filter(only_audio=True).first()\n",
    "\n",
    "#     out_file = video.download(output_path=\".\")\n",
    "#     print(type(out_file))\n",
    "#     print(os.path.splitext(out_file))\n",
    "#     base, ext = os.path.splitext(out_file)\n",
    "#     new_file = base + '.mp3'\n",
    "#     os.rename(out_file, new_file)"
   ]
  },
  {
   "cell_type": "code",
   "execution_count": 3,
   "id": "c16f473f",
   "metadata": {},
   "outputs": [],
   "source": [
    "dl(\"https://www.youtube.com/watch?v=mRD0-GxqHVo\")"
   ]
  },
  {
   "cell_type": "code",
   "execution_count": 1,
   "id": "0f3bd8fb",
   "metadata": {},
   "outputs": [],
   "source": [
    "from pytube import YouTube\n",
    "import os\n",
    "\n",
    "def dl(link):\n",
    "    if link is not None :\n",
    "            yt = YouTube(link)\n",
    "\n",
    "            video = yt.streams.filter(only_audio=True).first()\n",
    "\n",
    "            out_file = video.download(output_path=\"./mysite/files\")\n",
    "            base, ext = os.path.splitext(out_file)\n",
    "            new_file = base + '.mp3'\n",
    "            os.rename(out_file, new_file)"
   ]
  },
  {
   "cell_type": "code",
   "execution_count": 3,
   "id": "3c09a514",
   "metadata": {},
   "outputs": [],
   "source": [
    "dl(\"https://www.youtube.com/watch?v=mRD0-GxqHVo\")"
   ]
  },
  {
   "cell_type": "code",
   "execution_count": null,
   "id": "2d09380d",
   "metadata": {},
   "outputs": [],
   "source": []
  }
 ],
 "metadata": {
  "interpreter": {
   "hash": "e72af0a5035288c8d52874396eacd89ea144054c13450f9ff6c2acf2e0e9caef"
  },
  "kernelspec": {
   "display_name": "Python 3.9.12 ('venv': venv)",
   "language": "python",
   "name": "python3"
  },
  "language_info": {
   "codemirror_mode": {
    "name": "ipython",
    "version": 3
   },
   "file_extension": ".py",
   "mimetype": "text/x-python",
   "name": "python",
   "nbconvert_exporter": "python",
   "pygments_lexer": "ipython3",
   "version": "3.9.12"
  }
 },
 "nbformat": 4,
 "nbformat_minor": 5
}
